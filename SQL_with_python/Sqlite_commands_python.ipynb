{
 "cells": [
  {
   "cell_type": "markdown",
   "metadata": {
    "collapsed": true
   },
   "source": [
    "# This notebook demonstrates sql capibilities in python "
   ]
  },
  {
   "cell_type": "heading",
   "metadata": {},
   "level": 1,
   "source": [
    "Import the library and check the version"
   ]
  },
  {
   "cell_type": "code",
   "execution_count": 2,
   "metadata": {},
   "outputs": [
    {
     "name": "stdout",
     "output_type": "stream",
     "text": [
      "Sqlite version is  ('3.21.0',)\n"
     ]
    }
   ],
   "source": [
    "import sqlite3 as lite\n",
    "connection = lite.connect('student_database.db')\n",
    "cursor = connection.cursor()\n",
    "cursor.execute('SELECT SQLITE_VERSION()')\n",
    "data = cursor.fetchone()\n",
    "print('Sqlite version is ', data)\n",
    "connection.close()"
   ]
  },
  {
   "cell_type": "heading",
   "metadata": {},
   "level": 1,
   "source": [
    "Creating a table and injecting data into it"
   ]
  },
  {
   "cell_type": "code",
   "execution_count": 32,
   "metadata": {},
   "outputs": [
    {
     "ename": "OperationalError",
     "evalue": "database is locked",
     "traceback": [
      "\u001b[1;31m---------------------------------------------------------------------------\u001b[0m",
      "\u001b[1;31mOperationalError\u001b[0m                          Traceback (most recent call last)",
      "\u001b[1;32m<ipython-input-32-8423841dde2e>\u001b[0m in \u001b[0;36m<module>\u001b[1;34m()\u001b[0m\n\u001b[0;32m      3\u001b[0m \u001b[0mcursor\u001b[0m \u001b[1;33m=\u001b[0m \u001b[0mconnection\u001b[0m\u001b[1;33m.\u001b[0m\u001b[0mcursor\u001b[0m\u001b[1;33m(\u001b[0m\u001b[1;33m)\u001b[0m\u001b[1;33m\u001b[0m\u001b[0m\n\u001b[0;32m      4\u001b[0m \u001b[0mdrop_table\u001b[0m \u001b[1;33m=\u001b[0m \u001b[1;34m'''DROP TABLE IF EXISTS student_info'''\u001b[0m\u001b[1;33m\u001b[0m\u001b[0m\n\u001b[1;32m----> 5\u001b[1;33m \u001b[0mcursor\u001b[0m\u001b[1;33m.\u001b[0m\u001b[0mexecute\u001b[0m\u001b[1;33m(\u001b[0m\u001b[0mdrop_table\u001b[0m\u001b[1;33m)\u001b[0m\u001b[1;33m\u001b[0m\u001b[0m\n\u001b[0m\u001b[0;32m      6\u001b[0m \u001b[0mcreate_table\u001b[0m \u001b[1;33m=\u001b[0m \u001b[1;34m''' CREATE TABLE student_info (student_id INTEGER PRIMARY KEY, student_name VARCHAR(30), student_subject VARCHAR(30), student_gender CHAR(1)) '''\u001b[0m\u001b[1;33m\u001b[0m\u001b[0m\n\u001b[0;32m      7\u001b[0m \u001b[0mcursor\u001b[0m\u001b[1;33m.\u001b[0m\u001b[0mexecute\u001b[0m\u001b[1;33m(\u001b[0m\u001b[0mcreate_table\u001b[0m\u001b[1;33m)\u001b[0m\u001b[1;33m\u001b[0m\u001b[0m\n",
      "\u001b[1;31mOperationalError\u001b[0m: database is locked"
     ],
     "output_type": "error"
    }
   ],
   "source": [
    "import sqlite3 as lite\n",
    "connection = lite.connect('student_database.db')\n",
    "cursor = connection.cursor()\n",
    "drop_table = '''DROP TABLE IF EXISTS student_info'''\n",
    "cursor.execute(drop_table)\n",
    "create_table = ''' CREATE TABLE student_info (student_id INTEGER PRIMARY KEY, student_name VARCHAR(30), student_subject VARCHAR(30), student_gender CHAR(1)) '''\n",
    "cursor.execute(create_table)\n",
    "student_data = [('1024', 'Ram', 'Maths', 'M'), \n",
    "                ('1025', 'Shyam', 'Geo', 'M'),\n",
    "                ('1026', 'Sita', 'Maths', 'F'),\n",
    "                ]\n",
    "\n",
    "for data in student_data:    \n",
    "    cursor.execute(\"INSERT  INTO student_info(student_id, student_name, student_subject, student_gender)VALUES(?,?,?,?)\",\n",
    "                   (data[0], data[1], data[2], data[3]))\n",
    "connection.commit()\n"
   ]
  },
  {
   "cell_type": "code",
   "execution_count": 1,
   "metadata": {},
   "outputs": [
    {
     "ename": "NameError",
     "evalue": "name 'data' is not defined",
     "traceback": [
      "\u001b[1;31m---------------------------------------------------------------------------\u001b[0m",
      "\u001b[1;31mNameError\u001b[0m                                 Traceback (most recent call last)",
      "\u001b[1;32m<ipython-input-1-358111944bb4>\u001b[0m in \u001b[0;36m<module>\u001b[1;34m()\u001b[0m\n\u001b[1;32m----> 1\u001b[1;33m \u001b[0mprint\u001b[0m\u001b[1;33m(\u001b[0m\u001b[1;34m'Sqlite version is '\u001b[0m\u001b[1;33m,\u001b[0m \u001b[0mdata\u001b[0m\u001b[1;33m)\u001b[0m\u001b[1;33m\u001b[0m\u001b[0m\n\u001b[0m",
      "\u001b[1;31mNameError\u001b[0m: name 'data' is not defined"
     ],
     "output_type": "error"
    }
   ],
   "source": [
    ""
   ]
  },
  {
   "cell_type": "code",
   "execution_count": null,
   "metadata": {},
   "outputs": [],
   "source": []
  }
 ],
 "metadata": {
  "kernelspec": {
   "display_name": "Python 2",
   "language": "python",
   "name": "python2"
  },
  "language_info": {
   "codemirror_mode": {
    "name": "ipython",
    "version": 2
   },
   "file_extension": ".py",
   "mimetype": "text/x-python",
   "name": "python",
   "nbconvert_exporter": "python",
   "pygments_lexer": "ipython2",
   "version": "2.7.6"
  }
 },
 "nbformat": 4,
 "nbformat_minor": 0
}
