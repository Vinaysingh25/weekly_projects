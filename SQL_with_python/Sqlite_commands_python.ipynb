{
 "cells": [
  {
   "cell_type": "markdown",
   "metadata": {
    "collapsed": true
   },
   "source": [
    "# This notebook demonstrates sql capibilities in python "
   ]
  },
  {
   "cell_type": "heading",
   "metadata": {},
   "level": 1,
   "source": [
    "Import the library and check the version"
   ]
  },
  {
   "cell_type": "code",
   "execution_count": 1,
   "metadata": {},
   "outputs": [
    {
     "name": "stdout",
     "output_type": "stream",
     "text": [
      "Sqlite version is  ('3.21.0',)\n"
     ]
    }
   ],
   "source": [
    "import sqlite3 as lite\n",
    "connection = lite.connect('student_database.db')\n",
    "cursor = connection.cursor()\n",
    "cursor.execute('SELECT SQLITE_VERSION()')\n",
    "data = cursor.fetchone()\n",
    "print('Sqlite version is ', data)\n",
    "connection.close()"
   ]
  },
  {
   "cell_type": "heading",
   "metadata": {},
   "level": 1,
   "source": [
    "Creating a table and injecting data into it "
   ]
  },
  {
   "cell_type": "code",
   "execution_count": 15,
   "metadata": {},
   "outputs": [
    {
     "name": "stdout",
     "output_type": "stream",
     "text": [
      "table:student_info written to student_database\n"
     ]
    }
   ],
   "source": [
    "import sqlite3 as lite\n",
    "connection = lite.connect('student_database.db')\n",
    "cursor = connection.cursor()\n",
    "drop_table = '''DROP TABLE IF EXISTS student_info'''\n",
    "cursor.execute(drop_table)\n",
    "create_table = ''' CREATE TABLE student_info (student_id INTEGER PRIMARY KEY, student_name VARCHAR(30), student_subject VARCHAR(30), student_gender CHAR(1)) '''\n",
    "cursor.execute(create_table)\n",
    "student_data = [('1024', 'Ram', 'Maths', 'M'), \n",
    "                ('1025', 'Shyam', 'Geo', 'M'),\n",
    "                ('1026', 'Sita', 'Maths', 'F'),\n",
    "                ]\n",
    "\n",
    "for data in student_data:    \n",
    "    cursor.execute(\"INSERT  INTO student_info(student_id, student_name, student_subject, student_gender)VALUES(?,?,?,?)\",\n",
    "                   (data[0], data[1], data[2], data[3]))\n",
    "connection.commit()\n",
    "connection.close()\n",
    "print('table:student_info written to student_database')\n"
   ]
  },
  {
   "cell_type": "heading",
   "metadata": {},
   "level": 1,
   "source": [
    "Checking data in table"
   ]
  },
  {
   "cell_type": "code",
   "execution_count": 6,
   "metadata": {},
   "outputs": [
    {
     "name": "stdout",
     "output_type": "stream",
     "text": [
      "(1024, 'Ram', 'Maths', 'M')\n(1025, 'Shyam', 'Geo', 'M')\n(1026, 'Sita', 'Maths', 'F')\n"
     ]
    }
   ],
   "source": [
    "import sqlite3 as lite\n",
    "connection = lite.connect('student_database.db')\n",
    "cursor = connection.cursor()\n",
    "cursor.execute('SELECT * FROM student_info')\n",
    "table_data = cursor.fetchall()\n",
    "for data in table_data:\n",
    "    print(data)\n",
    "connection.close()"
   ]
  },
  {
   "cell_type": "heading",
   "metadata": {},
   "level": 1,
   "source": [
    "Checking data with condition"
   ]
  },
  {
   "cell_type": "code",
   "execution_count": 10,
   "metadata": {},
   "outputs": [
    {
     "name": "stdout",
     "output_type": "stream",
     "text": [
      "(1026, 'Sita', 'Maths', 'F')\n"
     ]
    }
   ],
   "source": [
    "import sqlite3 as lite\n",
    "connection = lite.connect('student_database.db')\n",
    "cursor = connection.cursor()\n",
    "cursor.execute('SELECT * FROM student_info WHERE student_subject = ? AND student_gender = ? ', ('Maths','F'))\n",
    "table_data = cursor.fetchall()\n",
    "for data in table_data:\n",
    "    print(data)\n",
    "connection.close()"
   ]
  },
  {
   "cell_type": "heading",
   "metadata": {},
   "level": 1,
   "source": [
    "Checking data with condition_2"
   ]
  },
  {
   "cell_type": "code",
   "execution_count": 11,
   "metadata": {},
   "outputs": [
    {
     "name": "stdout",
     "output_type": "stream",
     "text": [
      "(1024, 'Ram', 'Maths', 'M')\n(1026, 'Sita', 'Maths', 'F')\n"
     ]
    }
   ],
   "source": [
    "import sqlite3 as lite\n",
    "connection = lite.connect('student_database.db')\n",
    "cursor = connection.cursor()\n",
    "cursor.execute('SELECT * FROM student_info WHERE student_subject = ? OR student_gender = ? ', ('Maths','F'))\n",
    "table_data = cursor.fetchall()\n",
    "for data in table_data:\n",
    "    print(data)\n",
    "connection.close()"
   ]
  },
  {
   "cell_type": "heading",
   "metadata": {},
   "level": 1,
   "source": [
    "Creating another table"
   ]
  },
  {
   "cell_type": "code",
   "execution_count": 14,
   "metadata": {},
   "outputs": [
    {
     "name": "stdout",
     "output_type": "stream",
     "text": [
      "table:student_info_2 written to student_database\n"
     ]
    }
   ],
   "source": [
    "import sqlite3 as lite\n",
    "connection = lite.connect('student_database.db')\n",
    "cursor = connection.cursor()\n",
    "drop_table = '''DROP TABLE IF EXISTS student_info_2'''\n",
    "cursor.execute(drop_table)\n",
    "create_table = ''' CREATE TABLE student_info_2 (student_id INTEGER PRIMARY KEY, student_name VARCHAR(30), student_subject VARCHAR(30), student_gender CHAR(1)) '''\n",
    "cursor.execute(create_table)\n",
    "student_data = [('1027', 'Ramlal', 'Maths', 'M'), \n",
    "                ('1028', 'Shyamlal', 'Geo', 'M'),\n",
    "                ('1029', 'Sitamaa', 'Maths', 'F'),\n",
    "                ]\n",
    "\n",
    "for data in student_data:    \n",
    "    cursor.execute(\"INSERT  INTO student_info_2(student_id, student_name, student_subject, student_gender)VALUES(?,?,?,?)\",\n",
    "                   (data[0], data[1], data[2], data[3]))\n",
    "connection.commit()\n",
    "connection.close()\n",
    "print('table:student_info_2 written to student_database')"
   ]
  },
  {
   "cell_type": "heading",
   "metadata": {},
   "level": 1,
   "source": [
    "Checking data in student_info_2 table "
   ]
  },
  {
   "cell_type": "code",
   "execution_count": 17,
   "metadata": {},
   "outputs": [
    {
     "name": "stdout",
     "output_type": "stream",
     "text": [
      "(1027, 'Ramlal', 'Maths', 'M')\n(1028, 'Shyamlal', 'Geo', 'M')\n(1029, 'Sitamaa', 'Maths', 'F')\n"
     ]
    }
   ],
   "source": [
    "import sqlite3 as lite\n",
    "connection = lite.connect('student_database.db')\n",
    "cursor = connection.cursor()\n",
    "cursor.execute('SELECT * FROM student_info_2')\n",
    "table_data = cursor.fetchall()\n",
    "for data in table_data:\n",
    "    print(data)\n",
    "connection.close()"
   ]
  },
  {
   "cell_type": "heading",
   "metadata": {},
   "level": 1,
   "source": [
    "Joining 2 tables"
   ]
  },
  {
   "cell_type": "code",
   "execution_count": 18,
   "metadata": {},
   "outputs": [
    {
     "name": "stdout",
     "output_type": "stream",
     "text": [
      "(1024, 'Ram', 'Maths', 'M')\n(1025, 'Shyam', 'Geo', 'M')\n(1026, 'Sita', 'Maths', 'F')\n(1027, 'Ramlal', 'Maths', 'M')\n(1028, 'Shyamlal', 'Geo', 'M')\n(1029, 'Sitamaa', 'Maths', 'F')\n"
     ]
    }
   ],
   "source": [
    "import sqlite3 as lite\n",
    "connection = lite.connect('student_database.db')\n",
    "cursor = connection.cursor()\n",
    "cursor.execute('SELECT * FROM student_info UNION ALL SELECT * FROM student_info_2')\n",
    "table_data = cursor.fetchall()\n",
    "for data in table_data:\n",
    "    print(data)\n",
    "connection.close()"
   ]
  },
  {
   "cell_type": "code",
   "execution_count": 20,
   "metadata": {},
   "outputs": [],
   "source": [
    ""
   ]
  }
 ],
 "metadata": {
  "kernelspec": {
   "display_name": "Python 2",
   "language": "python",
   "name": "python2"
  },
  "language_info": {
   "codemirror_mode": {
    "name": "ipython",
    "version": 2
   },
   "file_extension": ".py",
   "mimetype": "text/x-python",
   "name": "python",
   "nbconvert_exporter": "python",
   "pygments_lexer": "ipython2",
   "version": "2.7.6"
  }
 },
 "nbformat": 4,
 "nbformat_minor": 0
}
